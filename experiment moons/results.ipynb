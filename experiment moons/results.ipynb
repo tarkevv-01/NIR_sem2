{
 "cells": [
  {
   "cell_type": "markdown",
   "metadata": {},
   "source": [
    "<table>\n",
    "  <tr>\n",
    "    <td style=\"vertical-align:top\">\n",
    "\n",
    "### Эксперемент moons\n",
    "\n",
    "|       | c2st | ml-eff | pair | shape |\n",
    "|-------|---------|-----------|-------------------|----------------|\n",
    "| TAB-DDPM  |0.51         |0.98           |0.99                  |0.97               |\n",
    "| CTGAN |0.80        |0.40           |0.99                   |0.96                 |\n",
    "</td>\n",
    "  </tr>\n",
    "</table>\n"
   ]
  }
 ],
 "metadata": {
  "language_info": {
   "name": "python"
  }
 },
 "nbformat": 4,
 "nbformat_minor": 2
}
