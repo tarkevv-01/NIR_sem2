{
 "cells": [
  {
   "cell_type": "code",
   "execution_count": 11,
   "metadata": {},
   "outputs": [],
   "source": [
    "import pandas as pd"
   ]
  },
  {
   "cell_type": "code",
   "execution_count": 12,
   "metadata": {},
   "outputs": [
    {
     "name": "stdout",
     "output_type": "stream",
     "text": [
      " Информация о датасете insurance:\n",
      " Количество строк: 1338\n",
      " Количество колонок: 7\n",
      " Колонки: ['age', 'sex', 'bmi', 'children', 'smoker', 'region', 'expenses']\n",
      " Задача: regression\n",
      " Целевая переменная: expenses\n",
      " Числовые признаки: ['age', 'bmi', 'children']\n",
      " Категориальные признаки: ['sex', 'smoker', 'region']\n",
      "\n",
      " Информация о датасете my_classification:\n",
      " Количество строк: 900\n",
      " Количество колонок: 6\n",
      " Колонки: ['feature_0', 'feature_1', 'feature_2', 'feature_3', 'feature_4', 'target']\n",
      " Задача: classification\n",
      " Целевая переменная: target\n",
      " Числовые признаки: ['feature_0', 'feature_1', 'feature_2', 'feature_3', 'feature_4']\n",
      " Категориальные признаки: []\n",
      "\n",
      " Информация о датасете my_regression:\n",
      " Количество строк: 900\n",
      " Количество колонок: 5\n",
      " Колонки: ['feature_0', 'feature_1', 'feature_2', 'feature_3', 'target']\n",
      " Задача: regression\n",
      " Целевая переменная: target\n",
      " Числовые признаки: ['feature_0', 'feature_1', 'feature_2', 'feature_3']\n",
      " Категориальные признаки: []\n",
      "\n",
      " Информация о датасете two_moons:\n",
      " Количество строк: 900\n",
      " Количество колонок: 3\n",
      " Колонки: ['x1', 'x2', 'label']\n",
      " Задача: classification\n",
      " Целевая переменная: label\n",
      " Числовые признаки: ['x1', 'x2']\n",
      " Категориальные признаки: []\n",
      "\n",
      " Информация о датасете boston:\n",
      " Количество строк: 394\n",
      " Количество колонок: 14\n",
      " Колонки: ['CRIM', 'ZN', 'INDUS', 'CHAS', 'NOX', 'RM', 'AGE', 'DIS', 'RAD', 'TAX', 'PTRATIO', 'B', 'LSTAT', 'MEDV']\n",
      " Задача: regression\n",
      " Целевая переменная: MEDV\n",
      " Числовые признаки: ['CRIM', 'ZN', 'INDUS', 'NOX', 'RM', 'AGE', 'DIS', 'RAD', 'TAX', 'PTRATIO', 'B', 'LSTAT']\n",
      " Категориальные признаки: ['CHAS']\n",
      "\n",
      " Информация о датасете titanic:\n",
      " Количество строк: 712\n",
      " Количество колонок: 12\n",
      " Колонки: ['PassengerId', 'Survived', 'Pclass', 'Name', 'Sex', 'Age', 'SibSp', 'Parch', 'Ticket', 'Fare', 'Cabin', 'Embarked']\n",
      " Задача: classification\n",
      " Целевая переменная: Survived\n",
      " Числовые признаки: ['Age', 'Fare', 'SibSp', 'Parch']\n",
      " Категориальные признаки: ['Pclass', 'Sex', 'Embarked']\n",
      "\n"
     ]
    }
   ],
   "source": [
    "    dir_datasets = './'\n",
    "\n",
    "    # Загрузка реальных датасетов\n",
    "    real_data_1 = pd.read_csv(dir_datasets+'insurance.csv')\n",
    "    real_data_2 = pd.read_csv(dir_datasets+'my_classification.csv')\n",
    "    real_data_3 = pd.read_csv(dir_datasets+'my_regression.csv')\n",
    "    real_data_4 = pd.read_csv(dir_datasets+'two_moons.csv')\n",
    "    real_data_5 = pd.read_csv(dir_datasets+'california_housing.csv')\n",
    "    real_data_6 = pd.read_csv(dir_datasets+'titanic.csv')\n",
    "\n",
    "    # Словарь датасетов для удобства\n",
    "    datasets = {\n",
    "        'insurance': {\n",
    "                        \"data\": real_data_1,\n",
    "                        \"task\": \"regression\",\n",
    "                        \"target\": \"expenses\",\n",
    "                        \"num_columns\":\n",
    "                        [\"age\", \"bmi\", \"children\"],\n",
    "                        \"cat_columns\":\n",
    "                        [\"sex\", \"smoker\", \"region\"]\n",
    "                    },\n",
    "        'my_classification': {\n",
    "                        \"data\": real_data_2,\n",
    "                        \"task\": \"classification\",\n",
    "                        \"target\": \"target\",\n",
    "                        \"num_columns\":\n",
    "                        [\"feature_0\", \"feature_1\", \"feature_2\", \"feature_3\", \"feature_4\"],\n",
    "                        \"cat_columns\":\n",
    "                        []\n",
    "                    },\n",
    "        'my_regression': {\n",
    "                        \"data\": real_data_3,\n",
    "                        \"task\": \"regression\",\n",
    "                        \"target\": \"target\",\n",
    "                        \"num_columns\":\n",
    "                        [\"feature_0\", \"feature_1\", \"feature_2\", \"feature_3\"],\n",
    "                        \"cat_columns\":\n",
    "                        []\n",
    "                    },\n",
    "\n",
    "        'two_moons': {\n",
    "                        \"data\": real_data_4,\n",
    "                        \"task\": \"classification\",\n",
    "                        \"target\": \"label\",\n",
    "                        \"num_columns\":\n",
    "                        [\"x1\", \"x2\"],\n",
    "                        \"cat_columns\": \n",
    "                        []\n",
    "                    },\n",
    "        'california_housing': {\n",
    "                        \"data\": real_data_5,\n",
    "                        \"task\": \"regression\",\n",
    "                        \"target\": \"MedHouseVal\",\n",
    "                        \"num_columns\":\n",
    "                        [\"MedInc\",\t\"HouseAge\",\t\"AveRooms\",\t\"AveBedrms\",\t\"Population\",\t\"AveOccup\",\t\"Latitude\",\t\"Longitude\"],\n",
    "                        \"cat_columns\": \n",
    "                        []\n",
    "                    },\n",
    "        'titanic': {\n",
    "                        \"data\": real_data_6,\n",
    "                        \"task\": \"classification\",\n",
    "                        \"target\": \"Survived\",\n",
    "                        \"num_columns\": [\"Age\", \"Fare\", \"SibSp\", \"Parch\"],\n",
    "                        \"cat_columns\": [\"Pclass\", \"Sex\", \"Embarked\"]\n",
    "                    },\n",
    "        \n",
    "    }\n",
    "\n",
    "    for name, data in datasets.items():\n",
    "        print(f\" Информация о датасете {name}:\")\n",
    "        print(f\" Количество строк: {data['data'].shape[0]}\")\n",
    "        print(f\" Количество колонок: {data['data'].shape[1]}\")\n",
    "        print(f\" Колонки: {list(data['data'].columns)}\")\n",
    "        print(f\" Задача: {data['task']}\")\n",
    "        print(f\" Целевая переменная: {data['target']}\")\n",
    "        print(f\" Числовые признаки: {data['num_columns']}\")\n",
    "        print(f\" Категориальные признаки: {data['cat_columns']}\")\n",
    "        print()"
   ]
  },
  {
   "cell_type": "code",
   "execution_count": 13,
   "metadata": {},
   "outputs": [
    {
     "data": {
      "text/plain": [
       "712"
      ]
     },
     "execution_count": 13,
     "metadata": {},
     "output_type": "execute_result"
    }
   ],
   "source": [
    "columns = datasets['titanic']['num_columns'] + datasets['titanic']['cat_columns']\n",
    "mask = datasets['titanic']['data'][columns].isnull().sum(axis=1) > 0\n",
    "df_moons = datasets['titanic']['data'][~mask]\n",
    "len(df_moons)\n",
    "#df_moons.to_csv('titanic.csv', index=False)\n",
    "#datasets['titanic']['data'][~mask].to_csv('titanic.csv', index=False)\n",
    "\n"
   ]
  },
  {
   "cell_type": "code",
   "execution_count": 14,
   "metadata": {},
   "outputs": [
    {
     "data": {
      "text/plain": [
       "394"
      ]
     },
     "execution_count": 14,
     "metadata": {},
     "output_type": "execute_result"
    }
   ],
   "source": [
    "# real_data_5.dropna().to_csv('HousingData.csv', index=False)\n",
    "len(real_data_5)"
   ]
  }
 ],
 "metadata": {
  "kernelspec": {
   "display_name": "Python 3",
   "language": "python",
   "name": "python3"
  },
  "language_info": {
   "codemirror_mode": {
    "name": "ipython",
    "version": 3
   },
   "file_extension": ".py",
   "mimetype": "text/x-python",
   "name": "python",
   "nbconvert_exporter": "python",
   "pygments_lexer": "ipython3",
   "version": "3.12.5"
  }
 },
 "nbformat": 4,
 "nbformat_minor": 2
}
